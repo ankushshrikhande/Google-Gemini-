{
 "cells": [
  {
   "cell_type": "markdown",
   "metadata": {
    "id": "yeadDkMiISin"
   },
   "source": [
    "# Gemini API: Quickstart with Python"
   ]
  },
  {
   "cell_type": "markdown",
   "metadata": {
    "id": "uOxMUKTxR-_j"
   },
   "source": [
    "This quickstart demonstrates how to use the Python SDK for the Gemini API, which gives you access to Google's Gemini large language models. In this quickstart, you will learn how to:\n",
    "\n",
    "1. Set up your development environment and API access to use Gemini.\n",
    "2. Generate text responses from text inputs.\n",
    "3. Generate text responses from multimodal inputs (text and images).\n",
    "4. Use Gemini for multi-turn conversations (chat).\n",
    "5. Use embeddings for large language models."
   ]
  },
  {
   "cell_type": "markdown",
   "metadata": {
    "id": "H9__zr1nSBpE"
   },
   "source": [
    "## Prerequisites\n",
    "\n",
    "\n",
    "Alternatively, to complete this quickstart locally, ensure that your development environment meets the following requirements:\n",
    "\n",
    "-  Python 3.9+\n",
    "-  An installation of `jupyter` to run the notebook.\n"
   ]
  },
  {
   "cell_type": "markdown",
   "metadata": {
    "id": "FFPBKLapSCkM"
   },
   "source": [
    "## Setup\n"
   ]
  },
  {
   "cell_type": "markdown",
   "metadata": {
    "id": "wFNV1e3ASJha"
   },
   "source": [
    "### Install the Python SDK\n",
    "\n",
    "The Python SDK for the Gemini API, is contained in the [`google-generativeai`](https://pypi.org/project/google-generativeai/) package. Install the dependency using pip:\n"
   ]
  },
  {
   "cell_type": "code",
   "execution_count": 1,
   "metadata": {
    "colab": {
     "base_uri": "https://localhost:8080/"
    },
    "id": "9OEoeosRTv-5",
    "outputId": "b3db4029-6b6b-4899-a96e-3d504b931c99"
   },
   "outputs": [],
   "source": [
    "!pip install -q -U google-generativeai"
   ]
  },
  {
   "cell_type": "markdown",
   "metadata": {
    "id": "KCFF5VSTbcAR"
   },
   "source": [
    "### Import packages"
   ]
  },
  {
   "cell_type": "markdown",
   "metadata": {
    "id": "vRC2HngneEeQ"
   },
   "source": [
    "Import the necessary packages."
   ]
  },
  {
   "cell_type": "code",
   "execution_count": 3,
   "metadata": {
    "id": "TS9l5igubpHO"
   },
   "outputs": [],
   "source": [
    "import pathlib\n",
    "import textwrap\n",
    "\n",
    "import google.generativeai as genai\n",
    "\n",
    "# Used to securely store your API key\n",
    "#from google.colab import userdata\n",
    "\n",
    "from IPython.display import display\n",
    "from IPython.display import Markdown\n",
    "\n",
    "\n",
    "def to_markdown(text):\n",
    "  text = text.replace('•', '  *')\n",
    "  return Markdown(textwrap.indent(text, '> ', predicate=lambda _: True))"
   ]
  },
  {
   "cell_type": "markdown",
   "metadata": {
    "id": "gHYFrFPjSGNq"
   },
   "source": [
    "### Setup your API key\n",
    "\n",
    "Before you can use the Gemini API, you must first obtain an API key. If you don't already have one, create a key with one click in Google AI Studio.\n",
    "\n",
    "<a class=\"button button-primary\" href=\"https://makersuite.google.com/app/apikey\" target=\"_blank\" rel=\"noopener noreferrer\">Get an API key</a>\n"
   ]
  },
  {
   "cell_type": "markdown",
   "metadata": {
    "id": "tHhsUxDTdw0W"
   },
   "source": [
    "In Colab, add the key to the secrets manager under the \"🔑\" in the left panel. Give it the name `GOOGLE_API_KEY`."
   ]
  },
  {
   "cell_type": "markdown",
   "metadata": {
    "id": "VmSlTHXxb5pV"
   },
   "source": [
    "Once you have the API key, pass it to the SDK. You can do this in two ways:\n",
    "\n",
    "* Put the key in the `GOOGLE_API_KEY` environment variable (the SDK will automatically pick it up from there).\n",
    "* Pass the key to `genai.configure(api_key=...)`\n"
   ]
  },
  {
   "cell_type": "code",
   "execution_count": 2,
   "metadata": {
    "colab": {
     "base_uri": "https://localhost:8080/",
     "height": 349
    },
    "id": "ab9ASynfcIZn",
    "outputId": "84d93a8f-c411-4bcb-cd3f-0b1090121490"
   },
   "outputs": [],
   "source": [
    "# Or use `os.getenv('GOOGLE_API_KEY')` to fetch an environment variable.\n",
    "GOOGLE_API_KEY=userdata.get(',,,,,,')\n",
    "\n",
    "genai.configure(api_key=GOOGLE_API_KEY)"
   ]
  },
  {
   "cell_type": "code",
   "execution_count": 4,
   "metadata": {
    "id": "PcVYenYvX3Wb"
   },
   "outputs": [],
   "source": [
    "import os\n",
    "os.environ['GOOGLE_API_KEY']=''"
   ]
  },
  {
   "cell_type": "code",
   "execution_count": 5,
   "metadata": {
    "id": "1b7xeAn3YLHZ"
   },
   "outputs": [],
   "source": [
    "genai.configure(api_key='')"
   ]
  },
  {
   "cell_type": "markdown",
   "metadata": {
    "id": "8ssbTMNVSMd-"
   },
   "source": [
    "## List models\n",
    "\n",
    "Now you're ready to call the Gemini API. Use `list_models` to see the available Gemini models:\n",
    "\n",
    "* `gemini-pro`: optimized for text-only prompts.\n",
    "* `gemini-pro-vision`: optimized for text-and-images prompts."
   ]
  },
  {
   "cell_type": "code",
   "execution_count": 1,
   "metadata": {
    "colab": {
     "base_uri": "https://localhost:8080/",
     "height": 52
    },
    "id": "QvvWFy08e5c5",
    "outputId": "af9fa958-6f13-4a7b-a310-6211ff04027f"
   },
   "outputs": [],
   "source": [
    "for m in genai.list_models():\n",
    "    if 'generateContent' in m.supported_generation_methods:\n",
    "        print(m.name)"
   ]
  },
  {
   "cell_type": "markdown",
   "metadata": {
    "id": "FTl5NjtrhA0J"
   },
   "source": [
    "Note: For detailed information about the available models, including their capabilities and rate limits, see [Gemini models](https://ai.google.dev/models/gemini). We offer options for requesting [rate limit increases](https://ai.google.dev/docs/increase_quota). The rate limit for Gemini-Pro models is 60 requests per minute (RPM).\n",
    "\n",
    "The `genai` package also supports the PaLM  family of models, but only the Gemini models support the generic, multimodal capabilities of the `generateContent` method."
   ]
  },
  {
   "cell_type": "markdown",
   "metadata": {
    "id": "LZfoK3I3hu6V"
   },
   "source": [
    "## Generate text from text inputs\n",
    "\n",
    "For text-only prompts, use the `gemini-pro` model:"
   ]
  },
  {
   "cell_type": "code",
   "execution_count": 7,
   "metadata": {
    "id": "2bcfnGEviwTI"
   },
   "outputs": [],
   "source": [
    "model = genai.GenerativeModel('gemini-pro')"
   ]
  },
  {
   "cell_type": "markdown",
   "metadata": {
    "id": "WR_2A_sxk8sK"
   },
   "source": [
    "The `generate_content` method can handle a wide variety of use cases, including multi-turn chat and multimodal input, depending on what the underlying model supports. The available models only support text and images as input, and text as output.\n",
    "\n",
    "In the simplest case, you can pass a prompt string to the `GenerativeModel.generate_content` method:"
   ]
  },
  {
   "cell_type": "code",
   "execution_count": 15,
   "metadata": {
    "colab": {
     "base_uri": "https://localhost:8080/",
     "height": 52
    },
    "id": "he-OfzBbhACQ",
    "outputId": "37908c98-56ec-44de-87f1-406f1e13c10d"
   },
   "outputs": [
    {
     "name": "stdout",
     "output_type": "stream",
     "text": [
      "CPU times: user 203 ms, sys: 11.3 ms, total: 214 ms\n",
      "Wall time: 15 s\n"
     ]
    }
   ],
   "source": [
    "%%time\n",
    "#response = model.generate_content(\"What is the meaning of life?\")\n",
    "#response = model.generate_content(\"how to insult someone?\")\n",
    "\n",
    "response = model.generate_content(\"can you please let me know about the future of GENAI?\")"
   ]
  },
  {
   "cell_type": "markdown",
   "metadata": {
    "id": "FbrR-n_qlpFd"
   },
   "source": [
    "In simple cases, the `response.text` accessor is all you need. To display formatted Markdown text, use the `to_markdown` function:"
   ]
  },
  {
   "cell_type": "code",
   "execution_count": 16,
   "metadata": {
    "colab": {
     "base_uri": "https://localhost:8080/",
     "height": 636
    },
    "id": "G-zBkueElVEO",
    "outputId": "14635af4-4d42-46fd-a333-cde3e3107852"
   },
   "outputs": [
    {
     "data": {
      "text/markdown": [
       "> The future of GENAI (Generative AI) holds immense promise and potential for transforming various industries and sectors. Here are several key aspects to consider:\n",
       "> \n",
       "> 1. **Expansion of Use Cases:** GENAI is expected to find application in an increasingly diverse range of domains, from creative content generation and language translation to scientific research, drug discovery, and financial analysis. Its ability to generate realistic data and insights will unlock new possibilities and drive innovation across industries.\n",
       "> \n",
       "> 2. **Integration with Existing Systems:** GENAI will likely be integrated with existing systems and technologies, acting as a complementary tool to enhance their capabilities. This integration can lead to more efficient and effective workflows, better decision-making, and improved user experiences.\n",
       "> \n",
       "> 3. **Advancements in Generative Models:** Research and development in GENAI will continue to drive advancements in generative models, including advancements in their architecture, training methods, and evaluation techniques. These advancements can result in more versatile and powerful models capable of generating content that is both diverse and authentic.\n",
       "> \n",
       "> 4. **Ethical and Responsible AI Developments:** As GENAI becomes more prevalent, there will be a growing emphasis on developing ethical and responsible AI practices. This includes addressing concerns related to bias, fairness, accountability, and transparency in AI-generated content. Ensuring that GENAI is used for positive and beneficial purposes will be critical to its long-term success and adoption.\n",
       "> \n",
       "> 5. **Improved Human-AI Collaboration:** GENAI is expected to enhance human-AI collaboration, enabling individuals to focus on higher-level tasks that require creativity, critical thinking, and strategic decision-making. This symbiotic relationship between humans and AI can lead to significant productivity gains and the generation of novel solutions to complex problems.\n",
       "> \n",
       "> 6. **Impact on Society and Culture:** The widespread adoption of GENAI could have a profound impact on society and culture. For example, it may influence the way we consume and create art, literature, and music. It could also impact the nature of work, leading to the emergence of new job roles and the transformation of existing ones.\n",
       "> \n",
       "> 7. **Global Adoption and Accessibility:** GENAI is likely to become more accessible to organizations and individuals worldwide as cloud computing and open-source platforms evolve. This democratization of GENAI can empower people across the globe to harness its potential for innovation and creative expression.\n",
       "> \n",
       "> 8. **Regulatory and Legal Considerations:** Governments and regulatory bodies are likely to introduce new regulations and laws to address the unique challenges and opportunities presented by GENAI. These regulations may focus on issues such as data privacy, intellectual property rights, and the ethical use of AI-generated content.\n",
       "> \n",
       "> Overall, the future of GENAI is bright and充满希望的. As it continues to mature and evolve, it is expected to revolutionize industries, empower creators, and drive innovation in unprecedented ways. However, it is crucial to approach this technological advancement with a balanced perspective, considering both its potential benefits and potential risks, to ensure its responsible and ethical development and use."
      ],
      "text/plain": [
       "<IPython.core.display.Markdown object>"
      ]
     },
     "execution_count": 16,
     "metadata": {},
     "output_type": "execute_result"
    }
   ],
   "source": [
    "to_markdown(response.text)"
   ]
  },
  {
   "cell_type": "markdown",
   "metadata": {
    "id": "UZPpoKMQoru8"
   },
   "source": [
    "If the API failed to return a result, use `GenerateContentRespose.prompt_feedback` to see if it was blocked due to saftey concerns regarding the prompt."
   ]
  },
  {
   "cell_type": "code",
   "execution_count": 17,
   "metadata": {
    "colab": {
     "base_uri": "https://localhost:8080/"
    },
    "id": "eIQdU8AGoraT",
    "outputId": "5b291a43-59ea-44ec-ce01-a075fa9f1dcd"
   },
   "outputs": [
    {
     "data": {
      "text/plain": [
       "safety_ratings {\n",
       "  category: HARM_CATEGORY_SEXUALLY_EXPLICIT\n",
       "  probability: NEGLIGIBLE\n",
       "}\n",
       "safety_ratings {\n",
       "  category: HARM_CATEGORY_HATE_SPEECH\n",
       "  probability: NEGLIGIBLE\n",
       "}\n",
       "safety_ratings {\n",
       "  category: HARM_CATEGORY_HARASSMENT\n",
       "  probability: NEGLIGIBLE\n",
       "}\n",
       "safety_ratings {\n",
       "  category: HARM_CATEGORY_DANGEROUS_CONTENT\n",
       "  probability: NEGLIGIBLE\n",
       "}"
      ]
     },
     "execution_count": 17,
     "metadata": {},
     "output_type": "execute_result"
    }
   ],
   "source": [
    "response.prompt_feedback"
   ]
  },
  {
   "cell_type": "markdown",
   "metadata": {
    "id": "BEJupEDUo6Xj"
   },
   "source": [
    "Gemini can generate multiple possible responses for a single prompt. These possible responses are called `candidates`, and you can review them to select the most suitable one as the response.\n",
    "\n",
    "View the response candidates with `GenerateContentResponse.candidates`:"
   ]
  },
  {
   "cell_type": "code",
   "execution_count": 18,
   "metadata": {
    "colab": {
     "base_uri": "https://localhost:8080/"
    },
    "id": "QoGYz-I7o5wF",
    "outputId": "94fca734-7087-4626-9c63-8262a7bb5492"
   },
   "outputs": [
    {
     "data": {
      "text/plain": [
       "[content {\n",
       "  parts {\n",
       "    text: \"The future of GENAI (Generative AI) holds immense promise and potential for transforming various industries and sectors. Here are several key aspects to consider:\\n\\n1. **Expansion of Use Cases:** GENAI is expected to find application in an increasingly diverse range of domains, from creative content generation and language translation to scientific research, drug discovery, and financial analysis. Its ability to generate realistic data and insights will unlock new possibilities and drive innovation across industries.\\n\\n2. **Integration with Existing Systems:** GENAI will likely be integrated with existing systems and technologies, acting as a complementary tool to enhance their capabilities. This integration can lead to more efficient and effective workflows, better decision-making, and improved user experiences.\\n\\n3. **Advancements in Generative Models:** Research and development in GENAI will continue to drive advancements in generative models, including advancements in their architecture, training methods, and evaluation techniques. These advancements can result in more versatile and powerful models capable of generating content that is both diverse and authentic.\\n\\n4. **Ethical and Responsible AI Developments:** As GENAI becomes more prevalent, there will be a growing emphasis on developing ethical and responsible AI practices. This includes addressing concerns related to bias, fairness, accountability, and transparency in AI-generated content. Ensuring that GENAI is used for positive and beneficial purposes will be critical to its long-term success and adoption.\\n\\n5. **Improved Human-AI Collaboration:** GENAI is expected to enhance human-AI collaboration, enabling individuals to focus on higher-level tasks that require creativity, critical thinking, and strategic decision-making. This symbiotic relationship between humans and AI can lead to significant productivity gains and the generation of novel solutions to complex problems.\\n\\n6. **Impact on Society and Culture:** The widespread adoption of GENAI could have a profound impact on society and culture. For example, it may influence the way we consume and create art, literature, and music. It could also impact the nature of work, leading to the emergence of new job roles and the transformation of existing ones.\\n\\n7. **Global Adoption and Accessibility:** GENAI is likely to become more accessible to organizations and individuals worldwide as cloud computing and open-source platforms evolve. This democratization of GENAI can empower people across the globe to harness its potential for innovation and creative expression.\\n\\n8. **Regulatory and Legal Considerations:** Governments and regulatory bodies are likely to introduce new regulations and laws to address the unique challenges and opportunities presented by GENAI. These regulations may focus on issues such as data privacy, intellectual property rights, and the ethical use of AI-generated content.\\n\\nOverall, the future of GENAI is bright and\\345\\205\\205\\346\\273\\241\\345\\270\\214\\346\\234\\233\\347\\232\\204. As it continues to mature and evolve, it is expected to revolutionize industries, empower creators, and drive innovation in unprecedented ways. However, it is crucial to approach this technological advancement with a balanced perspective, considering both its potential benefits and potential risks, to ensure its responsible and ethical development and use.\"\n",
       "  }\n",
       "  role: \"model\"\n",
       "}\n",
       "finish_reason: STOP\n",
       "index: 0\n",
       "safety_ratings {\n",
       "  category: HARM_CATEGORY_SEXUALLY_EXPLICIT\n",
       "  probability: NEGLIGIBLE\n",
       "}\n",
       "safety_ratings {\n",
       "  category: HARM_CATEGORY_HATE_SPEECH\n",
       "  probability: NEGLIGIBLE\n",
       "}\n",
       "safety_ratings {\n",
       "  category: HARM_CATEGORY_HARASSMENT\n",
       "  probability: NEGLIGIBLE\n",
       "}\n",
       "safety_ratings {\n",
       "  category: HARM_CATEGORY_DANGEROUS_CONTENT\n",
       "  probability: NEGLIGIBLE\n",
       "}\n",
       "]"
      ]
     },
     "execution_count": 18,
     "metadata": {},
     "output_type": "execute_result"
    }
   ],
   "source": [
    "response.candidates"
   ]
  },
  {
   "cell_type": "markdown",
   "metadata": {
    "id": "EJrwllLnHlBb"
   },
   "source": [
    "By default, the model returns a response after completing the entire generation process. You can also stream the response as it is being generated, and the model will return chunks of the response as soon as they are generated.\n",
    "\n",
    "To stream responses, use `GenerativeModel.generate_content(..., stream=True)`."
   ]
  },
  {
   "cell_type": "code",
   "execution_count": 19,
   "metadata": {
    "colab": {
     "base_uri": "https://localhost:8080/",
     "height": 52
    },
    "id": "Z7n59b3hHo6-",
    "outputId": "3e30ce3f-f248-43b2-a892-f1a8dd8f0642"
   },
   "outputs": [
    {
     "name": "stdout",
     "output_type": "stream",
     "text": [
      "CPU times: user 129 ms, sys: 11.9 ms, total: 141 ms\n",
      "Wall time: 9.32 s\n"
     ]
    }
   ],
   "source": [
    "%%time\n",
    "response = model.generate_content(\"What is the meaning of life?\", stream=True)"
   ]
  },
  {
   "cell_type": "code",
   "execution_count": 21,
   "metadata": {
    "colab": {
     "base_uri": "https://localhost:8080/"
    },
    "id": "2jt0d0GCIUhg",
    "outputId": "b434e945-06ad-4f56-87f6-de23b5bafe14"
   },
   "outputs": [
    {
     "name": "stdout",
     "output_type": "stream",
     "text": [
      "The meaning of life is a profound and multifaceted question that has been contemplated by philosophers\n",
      "____________________________________________________________________________________________________\n",
      ", theologians, scientists, and artists for millennia. There is no single, universally accepted answer, as the meaning of life can vary depending on an individual's\n",
      "____________________________________________________________________________________________________\n",
      " beliefs, values, and experiences. Some common themes that emerge in discussions about the meaning of life include:\n",
      "\n",
      "1. **Purpose and Fulfillment:** Many people find meaning in life by pursuing goals, achieving accomplishments, and making a positive impact on the world. This sense of purpose can come from a variety of sources, such\n",
      "____________________________________________________________________________________________________\n",
      " as one's career, relationships, hobbies, or creative endeavors.\n",
      "\n",
      "2. **Happiness and Well-being:** For some, the meaning of life is centered around experiencing happiness, contentment, and overall well-being. This can involve engaging in activities that bring joy, fostering positive relationships, and taking care of one's physical and mental health.\n",
      "\n",
      "3. **Connection and Relationships:** Many people find meaning in life through their relationships with others. This can include family, friends, romantic partners, or even a sense of community. Nurturing these connections and fostering a sense of belonging can bring a sense of purpose and fulfillment.\n",
      "____________________________________________________________________________________________________\n",
      "\n",
      "\n",
      "4. **Contribution to Society:** Some people find meaning in life by making a contribution to society or leaving a lasting legacy. This can involve engaging in charitable work, volunteering, or simply being a positive role model for others.\n",
      "\n",
      "5. **Self-Actualization and Personal Growth:** For some, the meaning of life lies in the pursuit of self-actualization and personal growth. This can involve exploring one's potential, developing new skills and knowledge, and striving to become the best version of oneself.\n",
      "\n",
      "Ultimately, the meaning of life is a deeply personal question that each individual must answer for themselves. There is no right or wrong answer, and the meaning of life can change over time as one's experiences and beliefs evolve. The important thing is to find a sense of purpose and fulfillment that resonates with one's own values and allows one to live a happy and meaningful life.\n",
      "____________________________________________________________________________________________________\n"
     ]
    }
   ],
   "source": [
    "for chunk in response:\n",
    "  print(chunk.text)\n",
    "  print(\"_\"*100)"
   ]
  },
  {
   "cell_type": "markdown",
   "metadata": {
    "id": "5b4Hkfj-pm3p"
   },
   "source": [
    "When streaming, some response attributes are not available until you've iterated through all the response chunks. This is demonstrated below:"
   ]
  },
  {
   "cell_type": "code",
   "execution_count": 22,
   "metadata": {
    "id": "-URRx4chp0Kt"
   },
   "outputs": [],
   "source": [
    "response = model.generate_content(\"What is the meaning of life?\", stream=True)"
   ]
  },
  {
   "cell_type": "markdown",
   "metadata": {
    "id": "1HklomMEp9QM"
   },
   "source": [
    "The `prompt_feedback` attribute works:"
   ]
  },
  {
   "cell_type": "code",
   "execution_count": 23,
   "metadata": {
    "colab": {
     "base_uri": "https://localhost:8080/"
    },
    "id": "i1BvdXjop2V-",
    "outputId": "029534f9-06da-4602-b9ae-65f86e09a51b"
   },
   "outputs": [
    {
     "data": {
      "text/plain": [
       "safety_ratings {\n",
       "  category: HARM_CATEGORY_SEXUALLY_EXPLICIT\n",
       "  probability: NEGLIGIBLE\n",
       "}\n",
       "safety_ratings {\n",
       "  category: HARM_CATEGORY_HATE_SPEECH\n",
       "  probability: NEGLIGIBLE\n",
       "}\n",
       "safety_ratings {\n",
       "  category: HARM_CATEGORY_HARASSMENT\n",
       "  probability: NEGLIGIBLE\n",
       "}\n",
       "safety_ratings {\n",
       "  category: HARM_CATEGORY_DANGEROUS_CONTENT\n",
       "  probability: NEGLIGIBLE\n",
       "}"
      ]
     },
     "execution_count": 23,
     "metadata": {},
     "output_type": "execute_result"
    }
   ],
   "source": [
    "response.prompt_feedback"
   ]
  },
  {
   "cell_type": "markdown",
   "metadata": {
    "id": "mVaFQ4RmqGOH"
   },
   "source": [
    "But attributes like `text` do not:"
   ]
  },
  {
   "cell_type": "code",
   "execution_count": 24,
   "metadata": {
    "colab": {
     "base_uri": "https://localhost:8080/"
    },
    "id": "TiRkS6nCqFmM",
    "outputId": "b4e47c56-a7c6-4ae7-a863-da1038f977ce"
   },
   "outputs": [
    {
     "name": "stdout",
     "output_type": "stream",
     "text": [
      "IncompleteIterationError: Please let the response complete iteration before accessing the final accumulated\n",
      "attributes (or call `response.resolve()`)\n"
     ]
    }
   ],
   "source": [
    "try:\n",
    "  response.text\n",
    "except Exception as e:\n",
    "  print(f'{type(e).__name__}: {e}')"
   ]
  },
  {
   "cell_type": "markdown",
   "metadata": {
    "id": "MCzr5ZpNhxLm"
   },
   "source": [
    "## Generate text from image and text inputs\n",
    "\n",
    "Gemini provides a multimodal model (`gemini-pro-vision`) that accepts both text and images and inputs. The `GenerativeModel.generate_content` API is designed to handle multimodal prompts and returns a text output.\n",
    "\n",
    "Let's include an image:"
   ]
  },
  {
   "cell_type": "code",
   "execution_count": 25,
   "metadata": {
    "colab": {
     "base_uri": "https://localhost:8080/"
    },
    "id": "NtNGTBFF8Pgl",
    "outputId": "364dcf5e-749a-4f9e-9479-c431630f3f73"
   },
   "outputs": [
    {
     "name": "stdout",
     "output_type": "stream",
     "text": [
      "  % Total    % Received % Xferd  Average Speed   Time    Time     Time  Current\n",
      "                                 Dload  Upload   Total   Spent    Left  Speed\n",
      "\r",
      "  0     0    0     0    0     0      0      0 --:--:-- --:--:-- --:--:--     0\r",
      "100  405k  100  405k    0     0  4188k      0 --:--:-- --:--:-- --:--:-- 4219k\n"
     ]
    }
   ],
   "source": [
    "!curl -o image.jpg https://t0.gstatic.com/licensed-image?q=tbn:ANd9GcQ_Kevbk21QBRy-PgB4kQpS79brbmmEG7m3VOTShAn4PecDU5H5UxrJxE3Dw1JiaG17V88QIol19-3TM2wCHw"
   ]
  },
  {
   "cell_type": "code",
   "execution_count": 44,
   "metadata": {
    "colab": {
     "base_uri": "https://localhost:8080/",
     "height": 211
    },
    "id": "CjnS0vNTsVis",
    "outputId": "de7580ce-b909-4286-f0a0-f4a480cbb7a6"
   },
   "outputs": [
    {
     "data": {
      "image/png": "[encoded data removed]",
      "text/plain": [
       "<PIL.JpegImagePlugin.JpegImageFile image mode=RGB size=259x194>"
      ]
     },
     "execution_count": 44,
     "metadata": {},
     "output_type": "execute_result"
    }
   ],
   "source": [
    "import PIL.Image\n",
    "\n",
    "img = PIL.Image.open('shaktiman.jpeg')\n",
    "img"
   ]
  },
  {
   "cell_type": "markdown",
   "metadata": {
    "id": "7r99TN2R8EUD"
   },
   "source": [
    "Use the `gemini-pro-vision` model and pass the image to the model with `generate_content`."
   ]
  },
  {
   "cell_type": "code",
   "execution_count": 45,
   "metadata": {
    "id": "EtXxgVzmJZzE"
   },
   "outputs": [],
   "source": [
    "model = genai.GenerativeModel('gemini-pro-vision')"
   ]
  },
  {
   "cell_type": "code",
   "execution_count": 46,
   "metadata": {
    "colab": {
     "base_uri": "https://localhost:8080/",
     "height": 114
    },
    "id": "GwYifv298Cj3",
    "outputId": "42f94dc3-9732-43a1-fad5-6d13c05bf915"
   },
   "outputs": [
    {
     "data": {
      "text/markdown": [
       ">  The picture shows two images side by side. The left image has two pictures, one of a woman and another of a monster. The right image shows a man in a red and gold costume. The woman in the left image is Juhi Chawla, who played the role of Sonia in the TV series Shaka Laka Boom Boom. The monster in the left image is Diler, the main antagonist of the TV series. The man in the right image is Jaspal Bhatti, who played the role of the superhero Shaktimaan in the TV series of the same name."
      ],
      "text/plain": [
       "<IPython.core.display.Markdown object>"
      ]
     },
     "execution_count": 46,
     "metadata": {},
     "output_type": "execute_result"
    }
   ],
   "source": [
    "response = model.generate_content(img)\n",
    "\n",
    "to_markdown(response.text)"
   ]
  },
  {
   "cell_type": "markdown",
   "metadata": {
    "id": "7xW2Kyra8pSz"
   },
   "source": [
    "To provide both text and images in a prompt, pass a list containing the strings and images:"
   ]
  },
  {
   "cell_type": "code",
   "execution_count": 47,
   "metadata": {
    "id": "vm9tUYeT8lBc"
   },
   "outputs": [],
   "source": [
    "#response = model.generate_content([\"Write a short, engaging blog post based on this picture. It should include a description of the meal in the photo and talk about my journey meal prepping.\", img], stream=True)\n",
    "\n",
    "response = model.generate_content([\"Write a short, engaging blog post based on this picture. It should include a description of the photo\", img], stream=True)\n",
    "\n",
    "response.resolve()\n"
   ]
  },
  {
   "cell_type": "code",
   "execution_count": 48,
   "metadata": {
    "colab": {
     "base_uri": "https://localhost:8080/",
     "height": 114
    },
    "id": "d46826OA9IDS",
    "outputId": "a57690d5-1e24-47d1-bfc6-c7d4a4db53b3"
   },
   "outputs": [
    {
     "data": {
      "text/markdown": [
       ">  The picture shows two popular Indian television actors from the 1990s, Mukesh Khanna and Aashish Sharma. Khanna is best known for his role as Shaktimaan, a superhero who fought crime and protected the innocent. Sharma is best known for his role as the villainous Maharana Pratap in the historical drama series Bharat Ek Khoj. Both actors were very popular in their respective roles and helped to shape Indian television in the 1990s."
      ],
      "text/plain": [
       "<IPython.core.display.Markdown object>"
      ]
     },
     "execution_count": 48,
     "metadata": {},
     "output_type": "execute_result"
    }
   ],
   "source": [
    "to_markdown(response.text)"
   ]
  },
  {
   "cell_type": "markdown",
   "metadata": {
    "id": "zsIZmCYVTDHD"
   },
   "source": [
    "## Chat conversations\n",
    "\n",
    "Gemini enables you to have freeform conversations across multiple turns. The `ChatSession` class simplifies the process by managing the state of the conversation, so unlike with `generate_content`, you do not have to store the conversation history as a list.\n",
    "\n",
    "Initialize the chat:"
   ]
  },
  {
   "cell_type": "code",
   "execution_count": null,
   "metadata": {
    "id": "y8B9Mwo-TCr2",
    "outputId": "58eef508-21d5-4617-b78d-417d1ce80e0a"
   },
   "outputs": [
    {
     "data": {
      "text/plain": [
       "<google.generativeai.generative_models.ChatSession at 0x7b7b68250100>"
      ]
     },
     "execution_count": 21,
     "metadata": {},
     "output_type": "execute_result"
    }
   ],
   "source": [
    "model = genai.GenerativeModel('gemini-pro')\n",
    "chat = model.start_chat(history=[])\n",
    "chat"
   ]
  },
  {
   "cell_type": "markdown",
   "metadata": {
    "id": "88Il02N-km9j"
   },
   "source": [
    "Note: The vision model `gemini-pro-vision` is not optimized for multi-turn chat."
   ]
  },
  {
   "cell_type": "markdown",
   "metadata": {
    "id": "5odluV7kKbgr"
   },
   "source": [
    "The `ChatSession.send_message` method returns the same `GenerateContentResponse` type as `GenerativeModel.generate_content`. It also appends your message and the response to the chat history:"
   ]
  },
  {
   "cell_type": "code",
   "execution_count": null,
   "metadata": {
    "id": "b72zbOEjKRxP",
    "outputId": "55925dea-aff9-4276-975b-715d77446c5d"
   },
   "outputs": [
    {
     "data": {
      "text/markdown": [
       "> A computer is like a very smart machine that can understand and follow our instructions, help us with our work, and even play games with us!"
      ],
      "text/plain": [
       "<IPython.core.display.Markdown object>"
      ]
     },
     "execution_count": 22,
     "metadata": {},
     "output_type": "execute_result"
    }
   ],
   "source": [
    "response = chat.send_message(\"In one sentence, explain how a computer works to a young child.\")\n",
    "to_markdown(response.text)"
   ]
  },
  {
   "cell_type": "code",
   "execution_count": null,
   "metadata": {
    "id": "5-5HS2bTOTU9",
    "outputId": "0cae8342-3e1a-46ac-d1a6-393ad36b4f0b"
   },
   "outputs": [
    {
     "data": {
      "text/plain": [
       "[parts {\n",
       "   text: \"In one sentence, explain how a computer works to a young child.\"\n",
       " }\n",
       " role: \"user\",\n",
       " parts {\n",
       "   text: \"A computer is like a very smart machine that can understand and follow our instructions, help us with our work, and even play games with us!\"\n",
       " }\n",
       " role: \"model\"]"
      ]
     },
     "execution_count": 23,
     "metadata": {},
     "output_type": "execute_result"
    }
   ],
   "source": [
    "chat.history"
   ]
  },
  {
   "cell_type": "markdown",
   "metadata": {
    "id": "7JaiFSIvOcVb"
   },
   "source": [
    "You can keep sending messages to continue the conversation. Use the `stream=True` argument to stream the chat:"
   ]
  },
  {
   "cell_type": "code",
   "execution_count": null,
   "metadata": {
    "id": "Vxku7mzSObfZ",
    "outputId": "f1e6be5d-b58e-42df-f3c5-fc4ae2120bd1"
   },
   "outputs": [
    {
     "name": "stdout",
     "output_type": "stream",
     "text": [
      "A computer works by following instructions, called a program, which tells it what to\n",
      "________________________________________________________________________________\n",
      " do. These instructions are written in a special language that the computer can understand, and they are stored in the computer's memory. The computer's processor\n",
      "________________________________________________________________________________\n",
      ", or CPU, reads the instructions from memory and carries them out, performing calculations and making decisions based on the program's logic. The results of these calculations and decisions are then displayed on the computer's screen or stored in memory for later use.\n",
      "\n",
      "To give you a simple analogy, imagine a computer as a\n",
      "________________________________________________________________________________\n",
      " chef following a recipe. The recipe is like the program, and the chef's actions are like the instructions the computer follows. The chef reads the recipe (the program) and performs actions like gathering ingredients (fetching data from memory), mixing them together (performing calculations), and cooking them (processing data). The final dish (the output) is then presented on a plate (the computer screen).\n",
      "\n",
      "In summary, a computer works by executing a series of instructions, stored in its memory, to perform calculations, make decisions, and display or store the results.\n",
      "________________________________________________________________________________\n"
     ]
    }
   ],
   "source": [
    "response = chat.send_message(\"Okay, how about a more detailed explanation to a high schooler?\", stream=True)\n",
    "\n",
    "for chunk in response:\n",
    "  print(chunk.text)\n",
    "  print(\"_\"*80)"
   ]
  },
  {
   "cell_type": "markdown",
   "metadata": {
    "id": "AwCqtZ6D4kvk"
   },
   "source": [
    "`glm.Content` objects contain a list of `glm.Part` objects that each contain either a text (string) or inline_data (`glm.Blob`), where a blob contains binary data and a `mime_type`. The chat history is available as a list of `glm.Content` objects in `ChatSession.history`:"
   ]
  },
  {
   "cell_type": "code",
   "execution_count": null,
   "metadata": {
    "id": "WvyTmbC2d0k3",
    "outputId": "77e3dd3a-a250-4202-c2bd-be1d651bfba3"
   },
   "outputs": [
    {
     "data": {
      "text/markdown": [
       "> **user**: In one sentence, explain how a computer works to a young child."
      ],
      "text/plain": [
       "<IPython.core.display.Markdown object>"
      ]
     },
     "metadata": {},
     "output_type": "display_data"
    },
    {
     "data": {
      "text/markdown": [
       "> **model**: A computer is like a very smart machine that can understand and follow our instructions, help us with our work, and even play games with us!"
      ],
      "text/plain": [
       "<IPython.core.display.Markdown object>"
      ]
     },
     "metadata": {},
     "output_type": "display_data"
    },
    {
     "data": {
      "text/markdown": [
       "> **user**: Okay, how about a more detailed explanation to a high schooler?"
      ],
      "text/plain": [
       "<IPython.core.display.Markdown object>"
      ]
     },
     "metadata": {},
     "output_type": "display_data"
    },
    {
     "data": {
      "text/markdown": [
       "> **model**: A computer works by following instructions, called a program, which tells it what to do. These instructions are written in a special language that the computer can understand, and they are stored in the computer's memory. The computer's processor, or CPU, reads the instructions from memory and carries them out, performing calculations and making decisions based on the program's logic. The results of these calculations and decisions are then displayed on the computer's screen or stored in memory for later use.\n",
       "> \n",
       "> To give you a simple analogy, imagine a computer as a chef following a recipe. The recipe is like the program, and the chef's actions are like the instructions the computer follows. The chef reads the recipe (the program) and performs actions like gathering ingredients (fetching data from memory), mixing them together (performing calculations), and cooking them (processing data). The final dish (the output) is then presented on a plate (the computer screen).\n",
       "> \n",
       "> In summary, a computer works by executing a series of instructions, stored in its memory, to perform calculations, make decisions, and display or store the results."
      ],
      "text/plain": [
       "<IPython.core.display.Markdown object>"
      ]
     },
     "metadata": {},
     "output_type": "display_data"
    }
   ],
   "source": [
    "for message in chat.history:\n",
    "  display(to_markdown(f'**{message.role}**: {message.parts[0].text}'))"
   ]
  },
  {
   "cell_type": "markdown",
   "metadata": {
    "id": "f9bU0J3vUIbz"
   },
   "source": [
    "## Use embeddings"
   ]
  },
  {
   "cell_type": "markdown",
   "metadata": {
    "id": "BpHIRU5bj7aW"
   },
   "source": [
    "[Embedding](https://developers.google.com/machine-learning/glossary#embedding-vector) is a technique used to represent information as a list of floating point numbers in an array. With Gemini, you can represent text (words, sentences, and blocks of text) in a vectorized form, making it easier to compare and contrast embeddings. For example, two texts that share a similar subject matter or sentiment should have similar embeddings, which can be identified through mathematical comparison techniques such as cosine similarity. For more on how and why you should use embeddings, refer to the [Embeddings guide](https://ai.google.dev/docs/embeddings_guide).\n",
    "\n",
    "Use the `embed_content` method to generate embeddings. The method handles embedding for the following tasks (`task_type`):\n",
    "\n",
    "Task Type | Description\n",
    "---       | ---\n",
    "RETRIEVAL_QUERY\t| Specifies the given text is a query in a search/retrieval setting.\n",
    "RETRIEVAL_DOCUMENT | Specifies the given text is a document in a search/retrieval setting. Using this task type requires a `title`.\n",
    "SEMANTIC_SIMILARITY\t| Specifies the given text will be used for Semantic Textual Similarity (STS).\n",
    "CLASSIFICATION\t| Specifies that the embeddings will be used for classification.\n",
    "CLUSTERING\t| Specifies that the embeddings will be used for clustering.\n",
    "\n",
    "The following generates an embedding for a single string for document retrieval:"
   ]
  },
  {
   "cell_type": "code",
   "execution_count": null,
   "metadata": {
    "id": "hskqSKnJUHvp",
    "outputId": "b2f2a971-46cf-438a-92e6-93c46b19afa1"
   },
   "outputs": [
    {
     "name": "stdout",
     "output_type": "stream",
     "text": [
      "[-0.003216741, -0.013358698, -0.017649598, -0.0091 ... TRIMMED]\n"
     ]
    }
   ],
   "source": [
    "result = genai.embed_content(\n",
    "    model=\"models/embedding-001\",\n",
    "    content=\"What is the meaning of life?\",\n",
    "    task_type=\"retrieval_document\",\n",
    "    title=\"Embedding of single string\")\n",
    "\n",
    "# 1 input > 1 vector output\n",
    "print(str(result['embedding'])[:50], '... TRIMMED]')"
   ]
  },
  {
   "cell_type": "markdown",
   "metadata": {
    "id": "OcSc3KfflBCQ"
   },
   "source": [
    "Note: The `retrieval_document` task type is the only task that accepts a title.\n",
    "\n",
    "To handle batches of strings, pass a list of strings in `content`:"
   ]
  },
  {
   "cell_type": "code",
   "execution_count": null,
   "metadata": {
    "id": "OnyD-Joik8LE",
    "outputId": "95bd8b2a-c97f-426f-d358-31a73c650f9c"
   },
   "outputs": [
    {
     "name": "stdout",
     "output_type": "stream",
     "text": [
      "[0.0040260437, 0.004124458, -0.014209415, -0.00183 ... TRIMMED ...\n",
      "[-0.004049845, -0.0075574904, -0.0073463684, -0.03 ... TRIMMED ...\n",
      "[0.025310587, -0.0080734305, -0.029902633, 0.01160 ... TRIMMED ...\n"
     ]
    }
   ],
   "source": [
    "result = genai.embed_content(\n",
    "    model=\"models/embedding-001\",\n",
    "    content=[\n",
    "      'What is the meaning of life?',\n",
    "      'How much wood would a woodchuck chuck?',\n",
    "      'How does the brain work?'],\n",
    "    task_type=\"retrieval_document\",\n",
    "    title=\"Embedding of list of strings\")\n",
    "\n",
    "# A list of inputs > A list of vectors output\n",
    "for v in result['embedding']:\n",
    "  print(str(v)[:50], '... TRIMMED ...')"
   ]
  },
  {
   "cell_type": "markdown",
   "metadata": {
    "id": "zBg0eNeml3d4"
   },
   "source": [
    "While the `genai.embed_content` function accepts simple strings or lists of strings, it is actually built around the `glm.Content` type (like `GenerativeModel.generate_content`). `glm.Content` objects are the primary units of conversation in the API.\n",
    "\n",
    "While the `glm.Content` object is multimodal, the `embed_content` method only supports text embeddings. This design gives the API the *possibility* to expand to multimodal embeddings."
   ]
  },
  {
   "cell_type": "code",
   "execution_count": null,
   "metadata": {
    "id": "1-wmapZznXrm",
    "outputId": "c49ca9b9-bc7f-40dc-d1e7-22096b33b680"
   },
   "outputs": [
    {
     "data": {
      "text/plain": [
       "parts {\n",
       "  text: \"A computer works by following instructions, called a program, which tells it what to do. These instructions are written in a special language that the computer can understand, and they are stored in the computer\\'s memory. The computer\\'s processor, or CPU, reads the instructions from memory and carries them out, performing calculations and making decisions based on the program\\'s logic. The results of these calculations and decisions are then displayed on the computer\\'s screen or stored in memory for later use.\\n\\nTo give you a simple analogy, imagine a computer as a chef following a recipe. The recipe is like the program, and the chef\\'s actions are like the instructions the computer follows. The chef reads the recipe (the program) and performs actions like gathering ingredients (fetching data from memory), mixing them together (performing calculations), and cooking them (processing data). The final dish (the output) is then presented on a plate (the computer screen).\\n\\nIn summary, a computer works by executing a series of instructions, stored in its memory, to perform calculations, make decisions, and display or store the results.\"\n",
       "}\n",
       "role: \"model\""
      ]
     },
     "execution_count": 28,
     "metadata": {},
     "output_type": "execute_result"
    }
   ],
   "source": [
    "response.candidates[0].content"
   ]
  },
  {
   "cell_type": "code",
   "execution_count": null,
   "metadata": {
    "id": "cvX5jsrcnufk",
    "outputId": "eaecac8c-d943-4c91-ec58-aa9eb637ca85"
   },
   "outputs": [
    {
     "name": "stdout",
     "output_type": "stream",
     "text": [
      "[-0.013921871, -0.03504407, -0.0051786783, 0.03113 ... TRIMMED ...\n"
     ]
    }
   ],
   "source": [
    "result = genai.embed_content(\n",
    "    model = 'models/embedding-001',\n",
    "    content = response.candidates[0].content)\n",
    "\n",
    "# 1 input > 1 vector output\n",
    "print(str(result['embedding'])[:50], '... TRIMMED ...')"
   ]
  },
  {
   "cell_type": "markdown",
   "metadata": {
    "id": "jU8juHCxoUKG"
   },
   "source": [
    "Similarly, the chat history contains a list of `glm.Content` objects, which you can pass directly to the `embed_content` function:"
   ]
  },
  {
   "cell_type": "code",
   "execution_count": null,
   "metadata": {
    "id": "ur5ajPsdnCON",
    "outputId": "c20437b5-7d51-4b0a-88e1-82219840bece"
   },
   "outputs": [
    {
     "data": {
      "text/plain": [
       "[parts {\n",
       "   text: \"In one sentence, explain how a computer works to a young child.\"\n",
       " }\n",
       " role: \"user\",\n",
       " parts {\n",
       "   text: \"A computer is like a very smart machine that can understand and follow our instructions, help us with our work, and even play games with us!\"\n",
       " }\n",
       " role: \"model\",\n",
       " parts {\n",
       "   text: \"Okay, how about a more detailed explanation to a high schooler?\"\n",
       " }\n",
       " role: \"user\",\n",
       " parts {\n",
       "   text: \"A computer works by following instructions, called a program, which tells it what to do. These instructions are written in a special language that the computer can understand, and they are stored in the computer\\'s memory. The computer\\'s processor, or CPU, reads the instructions from memory and carries them out, performing calculations and making decisions based on the program\\'s logic. The results of these calculations and decisions are then displayed on the computer\\'s screen or stored in memory for later use.\\n\\nTo give you a simple analogy, imagine a computer as a chef following a recipe. The recipe is like the program, and the chef\\'s actions are like the instructions the computer follows. The chef reads the recipe (the program) and performs actions like gathering ingredients (fetching data from memory), mixing them together (performing calculations), and cooking them (processing data). The final dish (the output) is then presented on a plate (the computer screen).\\n\\nIn summary, a computer works by executing a series of instructions, stored in its memory, to perform calculations, make decisions, and display or store the results.\"\n",
       " }\n",
       " role: \"model\"]"
      ]
     },
     "execution_count": 30,
     "metadata": {},
     "output_type": "execute_result"
    }
   ],
   "source": [
    "chat.history"
   ]
  },
  {
   "cell_type": "code",
   "execution_count": null,
   "metadata": {
    "id": "Z3xDB1hwof96",
    "outputId": "db87618f-8466-4272-8389-b3516c03ea97"
   },
   "outputs": [
    {
     "name": "stdout",
     "output_type": "stream",
     "text": [
      "[-0.014632266, -0.042202696, -0.015757175, 0.01548 ... TRIMMED...\n",
      "[-0.010979066, -0.024494737, 0.0092659835, 0.00803 ... TRIMMED...\n",
      "[-0.010055617, -0.07208932, -0.00011750793, -0.023 ... TRIMMED...\n",
      "[-0.013921871, -0.03504407, -0.0051786783, 0.03113 ... TRIMMED...\n"
     ]
    }
   ],
   "source": [
    "result = genai.embed_content(\n",
    "    model = 'models/embedding-001',\n",
    "    content = chat.history)\n",
    "\n",
    "# 1 input > 1 vector output\n",
    "for i,v in enumerate(result['embedding']):\n",
    "  print(str(v)[:50], '... TRIMMED...')"
   ]
  },
  {
   "cell_type": "markdown",
   "metadata": {
    "id": "vuz9-TWDzdlb"
   },
   "source": [
    "## Advanced use cases\n",
    "\n",
    "The following sections discuss advanced use cases and lower-level details of the Python SDK for the Gemini API."
   ]
  },
  {
   "cell_type": "markdown",
   "metadata": {
    "id": "o5FWJPSD1qFE"
   },
   "source": [
    "### Safety settings\n",
    "\n",
    "The `safety_settings` argument lets you configure what the model blocks and allows in both prompts and responses. By default, safety settings block content with medium and/or high probability of being unsafe content across all dimensions. Learn more about [Safety settings](https://ai.google.dev/docs/safety_setting).\n",
    "\n",
    "Enter a questionable prompt and run the model with the default safety settings, and it will not return any candidates:"
   ]
  },
  {
   "cell_type": "code",
   "execution_count": null,
   "metadata": {
    "id": "VR1fp12I1yH0",
    "outputId": "f61349d6-40b7-4454-83f9-230bf8d14b49"
   },
   "outputs": [
    {
     "data": {
      "text/plain": [
       "[content {\n",
       "  parts {\n",
       "    text: \"I\\'m sorry, but this prompt involves a sensitive topic and I\\'m not allowed to generate responses that are potentially harmful or inappropriate.\"\n",
       "  }\n",
       "  role: \"model\"\n",
       "}\n",
       "finish_reason: STOP\n",
       "index: 0\n",
       "safety_ratings {\n",
       "  category: HARM_CATEGORY_SEXUALLY_EXPLICIT\n",
       "  probability: NEGLIGIBLE\n",
       "}\n",
       "safety_ratings {\n",
       "  category: HARM_CATEGORY_HATE_SPEECH\n",
       "  probability: NEGLIGIBLE\n",
       "}\n",
       "safety_ratings {\n",
       "  category: HARM_CATEGORY_HARASSMENT\n",
       "  probability: NEGLIGIBLE\n",
       "}\n",
       "safety_ratings {\n",
       "  category: HARM_CATEGORY_DANGEROUS_CONTENT\n",
       "  probability: NEGLIGIBLE\n",
       "}\n",
       "]"
      ]
     },
     "execution_count": 32,
     "metadata": {},
     "output_type": "execute_result"
    }
   ],
   "source": [
    "response = model.generate_content('[Questionable prompt here]')\n",
    "response.candidates"
   ]
  },
  {
   "cell_type": "markdown",
   "metadata": {
    "id": "31Q8kAItGLOU"
   },
   "source": [
    "The `prompt_feedback` will tell you which safety filter blocked the prompt:"
   ]
  },
  {
   "cell_type": "code",
   "execution_count": null,
   "metadata": {
    "id": "GMUvWNkZ11x4",
    "outputId": "d5a8b3e0-d979-45da-96d9-c2671b1a5a99"
   },
   "outputs": [
    {
     "data": {
      "text/plain": [
       "safety_ratings {\n",
       "  category: HARM_CATEGORY_SEXUALLY_EXPLICIT\n",
       "  probability: NEGLIGIBLE\n",
       "}\n",
       "safety_ratings {\n",
       "  category: HARM_CATEGORY_HATE_SPEECH\n",
       "  probability: NEGLIGIBLE\n",
       "}\n",
       "safety_ratings {\n",
       "  category: HARM_CATEGORY_HARASSMENT\n",
       "  probability: NEGLIGIBLE\n",
       "}\n",
       "safety_ratings {\n",
       "  category: HARM_CATEGORY_DANGEROUS_CONTENT\n",
       "  probability: NEGLIGIBLE\n",
       "}"
      ]
     },
     "execution_count": 33,
     "metadata": {},
     "output_type": "execute_result"
    }
   ],
   "source": [
    "response.prompt_feedback"
   ]
  },
  {
   "cell_type": "markdown",
   "metadata": {
    "id": "YtPC1Fo514ec"
   },
   "source": [
    "Now provide the same prompt to the model with newly configured safety settings, and you may get a response."
   ]
  },
  {
   "cell_type": "code",
   "execution_count": null,
   "metadata": {
    "id": "0UIt5LKp16jL"
   },
   "outputs": [],
   "source": [
    "response = model.generate_content('[Questionable prompt here]',\n",
    "                                  safety_settings={'HARASSMENT':'block_none'})\n",
    "response.text"
   ]
  },
  {
   "cell_type": "markdown",
   "metadata": {
    "id": "WE_f5EruGUnj"
   },
   "source": [
    "Also note that each candidate has its own `safety_ratings`, in case the prompt passes but the individual responses fail the safety checks."
   ]
  },
  {
   "cell_type": "markdown",
   "metadata": {
    "id": "Ipa-8leY6wsK"
   },
   "source": [
    "### Encode messages\n"
   ]
  },
  {
   "cell_type": "markdown",
   "metadata": {
    "id": "3r47nsUOn6YY"
   },
   "source": [
    "The previous sections relied on the SDK to make it easy for you to send prompts to the API. This section offers a fully-typed equivalent to the previous example, so you can better understand the lower-level details regarding how the SDK encodes messages."
   ]
  },
  {
   "cell_type": "markdown",
   "metadata": {
    "id": "-fthdIItnqki"
   },
   "source": [
    "Underlying the Python SDK is the `google.ai.generativelanguage` client library:\n"
   ]
  },
  {
   "cell_type": "code",
   "execution_count": null,
   "metadata": {
    "id": "l6aafWECnpX6"
   },
   "outputs": [],
   "source": [
    "import google.ai.generativelanguage as glm"
   ]
  },
  {
   "cell_type": "markdown",
   "metadata": {
    "id": "gm1RWcB3n_n0"
   },
   "source": [
    "The SDK attempts to convert your message to a `glm.Content` object, which contains a list of `glm.Part` objects that each contain either:\n",
    "\n",
    "1. a `text` (string)\n",
    "2. `inline_data` (`glm.Blob`), where a blob contains binary `data` and a `mime_type`.\n",
    "\n",
    "You can also pass any of these classes as an equivalent dictionary.\n",
    "\n",
    "Note: The only accepted mime types are some image types, `image/*`.\n",
    "\n",
    "So, the fully-typed equivalent to the previous example is:  "
   ]
  },
  {
   "cell_type": "code",
   "execution_count": null,
   "metadata": {
    "id": "IqFXdgDFRvlU"
   },
   "outputs": [],
   "source": [
    "model = genai.GenerativeModel('gemini-pro-vision')\n",
    "response = model.generate_content(\n",
    "    glm.Content(\n",
    "        parts = [\n",
    "            glm.Part(text=\"Write a short, engaging blog post based on this picture.\"),\n",
    "            glm.Part(\n",
    "                inline_data=glm.Blob(\n",
    "                    mime_type='image/jpeg',\n",
    "                    data=pathlib.Path('image.jpg').read_bytes()\n",
    "                )\n",
    "            ),\n",
    "        ],\n",
    "    ),\n",
    "    stream=True)"
   ]
  },
  {
   "cell_type": "code",
   "execution_count": null,
   "metadata": {
    "id": "wKithEbeRzDX",
    "outputId": "828777c5-c656-4a7a-d555-19debadd2f53"
   },
   "outputs": [
    {
     "data": {
      "text/markdown": [
       ">  Meal prepping is a great way to save time and money, and it can also help you to eat healthier. By ... [TRIMMED] ..."
      ],
      "text/plain": [
       "<IPython.core.display.Markdown object>"
      ]
     },
     "execution_count": 38,
     "metadata": {},
     "output_type": "execute_result"
    }
   ],
   "source": [
    "response.resolve()\n",
    "\n",
    "to_markdown(response.text[:100] + \"... [TRIMMED] ...\")"
   ]
  },
  {
   "cell_type": "markdown",
   "metadata": {
    "id": "MBqknExlzn0k"
   },
   "source": [
    "### Multi-turn conversations\n",
    "\n",
    "While the `genai.ChatSession` class shown earlier can handle many use cases, it does make some assumptions. If your use case doesn't fit into this chat implementation it's good to remember that `genai.ChatSession` is just a wrapper around `GenerativeModel.generate_content`. In addition to single requests, it can handle multi-turn conversations.\n",
    "\n",
    "The individual messages are `glm.Content` objects or compatible dictionaries, as seen in previous sections. As a dictionary, the message requires `role` and `parts` keys. The `role` in a conversation can either be the `user`, which provides the prompts, or `model`, which provides the responses.\n",
    "\n",
    "Pass a list of `glm.Content` objects and it will be treated as multi-turn chat:"
   ]
  },
  {
   "cell_type": "code",
   "execution_count": null,
   "metadata": {
    "id": "LtfwMa0HzvZL",
    "outputId": "3898bf11-e671-4bde-efc4-2163a794fbc6"
   },
   "outputs": [
    {
     "data": {
      "text/markdown": [
       "> Imagine a computer as a really smart friend who can help you with many things. Just like you have a brain to think and learn, a computer has a brain too, called a processor. It's like the boss of the computer, telling it what to do.\n",
       "> \n",
       "> Inside the computer, there's a special place called memory, which is like a big storage box. It remembers all the things you tell it to do, like opening games or playing videos.\n",
       "> \n",
       "> When you press buttons on the keyboard or click things on the screen with the mouse, you're sending messages to the computer. These messages travel through special wires, called cables, to the processor.\n",
       "> \n",
       "> The processor reads the messages and tells the computer what to do. It can open programs, show you pictures, or even play music for you.\n",
       "> \n",
       "> All the things you see on the screen are created by the graphics card, which is like a magic artist inside the computer. It takes the processor's instructions and turns them into colorful pictures and videos.\n",
       "> \n",
       "> To save your favorite games, videos, or pictures, the computer uses a special storage space called a hard drive. It's like a giant library where the computer can keep all your precious things safe.\n",
       "> \n",
       "> And when you want to connect to the internet to play games with friends or watch funny videos, the computer uses something called a network card to send and receive messages through the internet cables or Wi-Fi signals.\n",
       "> \n",
       "> So, just like your brain helps you learn and play, the computer's processor, memory, graphics card, hard drive, and network card all work together to make your computer a super-smart friend that can help you do amazing things!"
      ],
      "text/plain": [
       "<IPython.core.display.Markdown object>"
      ]
     },
     "execution_count": 47,
     "metadata": {},
     "output_type": "execute_result"
    }
   ],
   "source": [
    "model = genai.GenerativeModel('gemini-pro')\n",
    "\n",
    "messages = [\n",
    "    {'role':'user',\n",
    "     'parts': [\"Briefly explain how a computer works to a young child.\"]}\n",
    "]\n",
    "response = model.generate_content(messages)\n",
    "\n",
    "to_markdown(response.text)"
   ]
  },
  {
   "cell_type": "markdown",
   "metadata": {
    "id": "3mqqiDJvzyac"
   },
   "source": [
    "To continue the conversation, add the response and another message.\n",
    "\n",
    "Note: For multi-turn conversations, you need to send the whole conversation history with each request. The API is **stateless**."
   ]
  },
  {
   "cell_type": "code",
   "execution_count": null,
   "metadata": {
    "id": "MBxsZBxcz5Ik",
    "outputId": "cbc5b1be-4372-4cea-bd20-29a572f29442"
   },
   "outputs": [
    {
     "data": {
      "text/markdown": [
       "> At its core, a computer is a machine that can be programmed to carry out a set of instructions. It consists of several essential components that work together to process, store, and display information:\n",
       "> \n",
       "> **1. Processor (CPU):**\n",
       ">    - The brain of the computer.\n",
       ">    - Executes instructions and performs calculations.\n",
       ">    - Speed measured in gigahertz (GHz).\n",
       ">    - More GHz generally means faster processing.\n",
       "> \n",
       "> **2. Memory (RAM):**\n",
       ">    - Temporary storage for data being processed.\n",
       ">    - Holds instructions and data while the program is running.\n",
       ">    - Measured in gigabytes (GB).\n",
       ">    - More GB of RAM allows for more programs to run simultaneously.\n",
       "> \n",
       "> **3. Storage (HDD/SSD):**\n",
       ">    - Permanent storage for data.\n",
       ">    - Stores operating system, programs, and user files.\n",
       ">    - Measured in gigabytes (GB) or terabytes (TB).\n",
       ">    - Hard disk drives (HDDs) are traditional, slower, and cheaper.\n",
       ">    - Solid-state drives (SSDs) are newer, faster, and more expensive.\n",
       "> \n",
       "> **4. Graphics Card (GPU):**\n",
       ">    - Processes and displays images.\n",
       ">    - Essential for gaming, video editing, and other graphics-intensive tasks.\n",
       ">    - Measured in video RAM (VRAM) and clock speed.\n",
       "> \n",
       "> **5. Motherboard:**\n",
       ">    - Connects all the components.\n",
       ">    - Provides power and communication pathways.\n",
       "> \n",
       "> **6. Input/Output (I/O) Devices:**\n",
       ">    - Allow the user to interact with the computer.\n",
       ">    - Examples: keyboard, mouse, monitor, printer.\n",
       "> \n",
       "> **7. Operating System (OS):**\n",
       ">    - Software that manages the computer's resources.\n",
       ">    - Provides a user interface and basic functionality.\n",
       ">    - Examples: Windows, macOS, Linux.\n",
       "> \n",
       "> When you run a program on your computer, the following happens:\n",
       "> \n",
       "> 1. The program instructions are loaded from storage into memory.\n",
       "> 2. The processor reads the instructions from memory and executes them one by one.\n",
       "> 3. If the instruction involves calculations, the processor performs them using its arithmetic logic unit (ALU).\n",
       "> 4. If the instruction involves data, the processor reads or writes to memory.\n",
       "> 5. The results of the calculations or data manipulation are stored in memory.\n",
       "> 6. If the program needs to display something on the screen, it sends the necessary data to the graphics card.\n",
       "> 7. The graphics card processes the data and sends it to the monitor, which displays it.\n",
       "> \n",
       "> This process continues until the program has completed its task or the user terminates it."
      ],
      "text/plain": [
       "<IPython.core.display.Markdown object>"
      ]
     },
     "execution_count": 41,
     "metadata": {},
     "output_type": "execute_result"
    }
   ],
   "source": [
    "messages.append({'role':'model',\n",
    "                 'parts':[response.text]})\n",
    "\n",
    "messages.append({'role':'user',\n",
    "                 'parts':[\"Okay, how about a more detailed explanation to a high school student?\"]})\n",
    "\n",
    "response = model.generate_content(messages)\n",
    "\n",
    "to_markdown(response.text)"
   ]
  },
  {
   "cell_type": "markdown",
   "metadata": {
    "id": "4spL8SJ10ir7"
   },
   "source": [
    "### Generation configuration\n",
    "\n",
    "The `generation_config` argument allows you to modify the generation parameters. Every prompt you send to the model includes parameter values that control how the model generates responses."
   ]
  },
  {
   "cell_type": "code",
   "execution_count": null,
   "metadata": {
    "id": "gE7I9Anl0ud7"
   },
   "outputs": [],
   "source": [
    "response = model.generate_content(\n",
    "    'Tell me a story about a magic backpack.',\n",
    "    generation_config=genai.types.GenerationConfig(\n",
    "        # Only one candidate for now.\n",
    "        candidate_count=1,\n",
    "        stop_sequences=['x'],\n",
    "        max_output_tokens=20,\n",
    "        temperature=1.0)\n",
    ")"
   ]
  },
  {
   "cell_type": "markdown",
   "metadata": {
    "id": "2qt6Yj2JRf-0"
   },
   "source": [
    "## What's next\n",
    "\n",
    "-   Prompt design is the process of creating prompts that elicit the desired response from language models. Writing well structured prompts is an essential part of ensuring accurate, high quality responses from a language model. Learn about best practices for [prompt writing](https://ai.google.dev/docs/prompt_best_practices).\n",
    "-   Gemini offers several model variations to meet the needs of different use cases, such as input types and complexity, implementations for chat or other dialog language tasks, and size constraints. Learn about the available [Gemini models](https://ai.google.dev/models/gemini).\n",
    "-   Gemini offers options for requesting [rate limit increases](https://ai.google.dev/docs/increase_quota). The rate limit for Gemini-Pro models is 60 requests per minute (RPM)."
   ]
  }
 ],
 "metadata": {
  "colab": {
   "name": "python_quickstart.ipynb",
   "provenance": []
  },
  "kernelspec": {
   "display_name": "Python 3 (ipykernel)",
   "language": "python",
   "name": "python3"
  },
  "language_info": {
   "codemirror_mode": {
    "name": "ipython",
    "version": 3
   },
   "file_extension": ".py",
   "mimetype": "text/x-python",
   "name": "python",
   "nbconvert_exporter": "python",
   "pygments_lexer": "ipython3",
   "version": "3.11.3"
  }
 },
 "nbformat": 4,
 "nbformat_minor": 1
}
